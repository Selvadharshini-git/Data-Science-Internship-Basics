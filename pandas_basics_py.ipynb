{
  "nbformat": 4,
  "nbformat_minor": 0,
  "metadata": {
    "colab": {
      "provenance": [],
      "authorship_tag": "ABX9TyO2NpY4ILH1obHecphgHMn8",
      "include_colab_link": true
    },
    "kernelspec": {
      "name": "python3",
      "display_name": "Python 3"
    },
    "language_info": {
      "name": "python"
    }
  },
  "cells": [
    {
      "cell_type": "markdown",
      "metadata": {
        "id": "view-in-github",
        "colab_type": "text"
      },
      "source": [
        "<a href=\"https://colab.research.google.com/github/Selvadharshini-git/Data-Science-Internship-Basics/blob/main/pandas_basics_py.ipynb\" target=\"_parent\"><img src=\"https://colab.research.google.com/assets/colab-badge.svg\" alt=\"Open In Colab\"/></a>"
      ]
    },
    {
      "cell_type": "code",
      "execution_count": null,
      "metadata": {
        "colab": {
          "base_uri": "https://localhost:8080/"
        },
        "id": "ho01igNNhndb",
        "outputId": "8257f66a-fa3f-43f8-89c1-5a5e1ef5a836"
      },
      "outputs": [
        {
          "output_type": "stream",
          "name": "stdout",
          "text": [
            "First five rows of the dataset:\n",
            "      Name  Age  Salary\n",
            "0    Alice   25   70000\n",
            "1      Bob   30   80000\n",
            "2  Charlie   35   90000\n",
            "3    David   40  100000\n",
            "4      Eve   45  110000\n",
            "\n",
            "Basic statistics of the dataset:\n",
            "             Age         Salary\n",
            "count   5.000000       5.000000\n",
            "mean   35.000000   90000.000000\n",
            "std     7.905694   15811.388301\n",
            "min    25.000000   70000.000000\n",
            "25%    30.000000   80000.000000\n",
            "50%    35.000000   90000.000000\n",
            "75%    40.000000  100000.000000\n",
            "max    45.000000  110000.000000\n"
          ]
        }
      ],
      "source": [
        "import pandas as pd\n",
        "import numpy as np\n",
        "data = {\n",
        "    \"Name\": [\"Alice\", \"Bob\", \"Charlie\", \"David\", \"Eve\"],\n",
        "    \"Age\": [25, 30, 35, 40, 45],\n",
        "    \"Salary\": [ 70000, 80000, 90000, 100000, 110000]\n",
        "}\n",
        "\n",
        "\n",
        "df = pd.DataFrame(data)\n",
        "df.to_csv(\"sample_data.csv\", index=False)\n",
        "df = pd.read_csv(\"sample_data.csv\")\n",
        "print(\"First five rows of the dataset:\")\n",
        "print(df.head())\n",
        "print(\"\\nBasic statistics of the dataset:\")\n",
        "print(df.describe())\n"
      ]
    }
  ]
}