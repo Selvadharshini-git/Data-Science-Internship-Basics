{
  "nbformat": 4,
  "nbformat_minor": 0,
  "metadata": {
    "colab": {
      "provenance": [],
      "authorship_tag": "ABX9TyPCs7BdfG274sTHfBIka9BG",
      "include_colab_link": true
    },
    "kernelspec": {
      "name": "python3",
      "display_name": "Python 3"
    },
    "language_info": {
      "name": "python"
    }
  },
  "cells": [
    {
      "cell_type": "markdown",
      "metadata": {
        "id": "view-in-github",
        "colab_type": "text"
      },
      "source": [
        "<a href=\"https://colab.research.google.com/github/Selvadharshini-git/Data-Science-Internship-Basics/blob/main/numpy_basics_py.ipynb\" target=\"_parent\"><img src=\"https://colab.research.google.com/assets/colab-badge.svg\" alt=\"Open In Colab\"/></a>"
      ]
    },
    {
      "cell_type": "code",
      "execution_count": null,
      "metadata": {
        "colab": {
          "base_uri": "https://localhost:8080/"
        },
        "id": "vQkPcK1ET7rE",
        "outputId": "efe695b0-5e5f-4f35-dc7e-19a801682b8f"
      },
      "outputs": [
        {
          "output_type": "stream",
          "name": "stdout",
          "text": [
            "Random Array: [11 85  2 87 61 54 14 68 48  6]\n",
            "Sum: 436\n",
            "Mean: 43.6\n",
            "Max: 87\n",
            "Min: 2\n"
          ]
        }
      ],
      "source": [
        "import numpy as np\n",
        "random_array = np.random.randint(0, 100, size=10)\n",
        "print(\"Random Array:\", random_array)\n",
        "print(\"Sum:\", np.sum(random_array))\n",
        "print(\"Mean:\", np.mean(random_array))\n",
        "print(\"Max:\", np.max(random_array))\n",
        "print(\"Min:\", np.min(random_array))"
      ]
    }
  ]
}